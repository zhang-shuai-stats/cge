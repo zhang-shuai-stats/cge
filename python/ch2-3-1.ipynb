{
 "cells": [
  {
   "cell_type": "markdown",
   "metadata": {},
   "source": [
    "# 第二章 例2-3-1"
   ]
  },
  {
   "cell_type": "code",
   "execution_count": 5,
   "metadata": {},
   "outputs": [],
   "source": [
    "from gamspy import Container, Set, Parameter, Variable, Equation, Model, Sum, Alias, Problem, Options\n",
    "import pandas as pd"
   ]
  },
  {
   "cell_type": "markdown",
   "metadata": {},
   "source": [
    "### Container"
   ]
  },
  {
   "cell_type": "code",
   "execution_count": 6,
   "metadata": {},
   "outputs": [],
   "source": [
    "m = Container()"
   ]
  },
  {
   "cell_type": "markdown",
   "metadata": {},
   "source": [
    "### Sets"
   ]
  },
  {
   "cell_type": "code",
   "execution_count": 7,
   "metadata": {},
   "outputs": [
    {
     "data": {
      "text/plain": [
       "('i', 'j')"
      ]
     },
     "execution_count": 7,
     "metadata": {},
     "output_type": "execute_result"
    }
   ],
   "source": [
    "i = Set(container=m, name=\"i\", description=\"input\", records=[\"sec1\",\"sec2\"])\n",
    "j = Alias(m, name=\"j\", alias_with=i)\n",
    "i.name, j.name"
   ]
  },
  {
   "cell_type": "markdown",
   "metadata": {},
   "source": [
    "### Data"
   ]
  },
  {
   "cell_type": "code",
   "execution_count": 8,
   "metadata": {},
   "outputs": [
    {
     "ename": "FileNotFoundError",
     "evalue": "[Errno 2] No such file or directory: 'chap2.xlsx'",
     "output_type": "error",
     "traceback": [
      "\u001b[0;31m---------------------------------------------------------------------------\u001b[0m",
      "\u001b[0;31mFileNotFoundError\u001b[0m                         Traceback (most recent call last)",
      "Cell \u001b[0;32mIn[8], line 1\u001b[0m\n\u001b[0;32m----> 1\u001b[0m data \u001b[38;5;241m=\u001b[39m pd\u001b[38;5;241m.\u001b[39mread_excel(\u001b[38;5;124m\"\u001b[39m\u001b[38;5;124mchap2.xlsx\u001b[39m\u001b[38;5;124m\"\u001b[39m, index_col\u001b[38;5;241m=\u001b[39m\u001b[38;5;241m0\u001b[39m)\n\u001b[1;32m      2\u001b[0m data\n",
      "File \u001b[0;32m/opt/anaconda3/lib/python3.12/site-packages/pandas/io/excel/_base.py:495\u001b[0m, in \u001b[0;36mread_excel\u001b[0;34m(io, sheet_name, header, names, index_col, usecols, dtype, engine, converters, true_values, false_values, skiprows, nrows, na_values, keep_default_na, na_filter, verbose, parse_dates, date_parser, date_format, thousands, decimal, comment, skipfooter, storage_options, dtype_backend, engine_kwargs)\u001b[0m\n\u001b[1;32m    493\u001b[0m \u001b[38;5;28;01mif\u001b[39;00m \u001b[38;5;129;01mnot\u001b[39;00m \u001b[38;5;28misinstance\u001b[39m(io, ExcelFile):\n\u001b[1;32m    494\u001b[0m     should_close \u001b[38;5;241m=\u001b[39m \u001b[38;5;28;01mTrue\u001b[39;00m\n\u001b[0;32m--> 495\u001b[0m     io \u001b[38;5;241m=\u001b[39m ExcelFile(\n\u001b[1;32m    496\u001b[0m         io,\n\u001b[1;32m    497\u001b[0m         storage_options\u001b[38;5;241m=\u001b[39mstorage_options,\n\u001b[1;32m    498\u001b[0m         engine\u001b[38;5;241m=\u001b[39mengine,\n\u001b[1;32m    499\u001b[0m         engine_kwargs\u001b[38;5;241m=\u001b[39mengine_kwargs,\n\u001b[1;32m    500\u001b[0m     )\n\u001b[1;32m    501\u001b[0m \u001b[38;5;28;01melif\u001b[39;00m engine \u001b[38;5;129;01mand\u001b[39;00m engine \u001b[38;5;241m!=\u001b[39m io\u001b[38;5;241m.\u001b[39mengine:\n\u001b[1;32m    502\u001b[0m     \u001b[38;5;28;01mraise\u001b[39;00m \u001b[38;5;167;01mValueError\u001b[39;00m(\n\u001b[1;32m    503\u001b[0m         \u001b[38;5;124m\"\u001b[39m\u001b[38;5;124mEngine should not be specified when passing \u001b[39m\u001b[38;5;124m\"\u001b[39m\n\u001b[1;32m    504\u001b[0m         \u001b[38;5;124m\"\u001b[39m\u001b[38;5;124man ExcelFile - ExcelFile already has the engine set\u001b[39m\u001b[38;5;124m\"\u001b[39m\n\u001b[1;32m    505\u001b[0m     )\n",
      "File \u001b[0;32m/opt/anaconda3/lib/python3.12/site-packages/pandas/io/excel/_base.py:1550\u001b[0m, in \u001b[0;36mExcelFile.__init__\u001b[0;34m(self, path_or_buffer, engine, storage_options, engine_kwargs)\u001b[0m\n\u001b[1;32m   1548\u001b[0m     ext \u001b[38;5;241m=\u001b[39m \u001b[38;5;124m\"\u001b[39m\u001b[38;5;124mxls\u001b[39m\u001b[38;5;124m\"\u001b[39m\n\u001b[1;32m   1549\u001b[0m \u001b[38;5;28;01melse\u001b[39;00m:\n\u001b[0;32m-> 1550\u001b[0m     ext \u001b[38;5;241m=\u001b[39m inspect_excel_format(\n\u001b[1;32m   1551\u001b[0m         content_or_path\u001b[38;5;241m=\u001b[39mpath_or_buffer, storage_options\u001b[38;5;241m=\u001b[39mstorage_options\n\u001b[1;32m   1552\u001b[0m     )\n\u001b[1;32m   1553\u001b[0m     \u001b[38;5;28;01mif\u001b[39;00m ext \u001b[38;5;129;01mis\u001b[39;00m \u001b[38;5;28;01mNone\u001b[39;00m:\n\u001b[1;32m   1554\u001b[0m         \u001b[38;5;28;01mraise\u001b[39;00m \u001b[38;5;167;01mValueError\u001b[39;00m(\n\u001b[1;32m   1555\u001b[0m             \u001b[38;5;124m\"\u001b[39m\u001b[38;5;124mExcel file format cannot be determined, you must specify \u001b[39m\u001b[38;5;124m\"\u001b[39m\n\u001b[1;32m   1556\u001b[0m             \u001b[38;5;124m\"\u001b[39m\u001b[38;5;124man engine manually.\u001b[39m\u001b[38;5;124m\"\u001b[39m\n\u001b[1;32m   1557\u001b[0m         )\n",
      "File \u001b[0;32m/opt/anaconda3/lib/python3.12/site-packages/pandas/io/excel/_base.py:1402\u001b[0m, in \u001b[0;36minspect_excel_format\u001b[0;34m(content_or_path, storage_options)\u001b[0m\n\u001b[1;32m   1399\u001b[0m \u001b[38;5;28;01mif\u001b[39;00m \u001b[38;5;28misinstance\u001b[39m(content_or_path, \u001b[38;5;28mbytes\u001b[39m):\n\u001b[1;32m   1400\u001b[0m     content_or_path \u001b[38;5;241m=\u001b[39m BytesIO(content_or_path)\n\u001b[0;32m-> 1402\u001b[0m \u001b[38;5;28;01mwith\u001b[39;00m get_handle(\n\u001b[1;32m   1403\u001b[0m     content_or_path, \u001b[38;5;124m\"\u001b[39m\u001b[38;5;124mrb\u001b[39m\u001b[38;5;124m\"\u001b[39m, storage_options\u001b[38;5;241m=\u001b[39mstorage_options, is_text\u001b[38;5;241m=\u001b[39m\u001b[38;5;28;01mFalse\u001b[39;00m\n\u001b[1;32m   1404\u001b[0m ) \u001b[38;5;28;01mas\u001b[39;00m handle:\n\u001b[1;32m   1405\u001b[0m     stream \u001b[38;5;241m=\u001b[39m handle\u001b[38;5;241m.\u001b[39mhandle\n\u001b[1;32m   1406\u001b[0m     stream\u001b[38;5;241m.\u001b[39mseek(\u001b[38;5;241m0\u001b[39m)\n",
      "File \u001b[0;32m/opt/anaconda3/lib/python3.12/site-packages/pandas/io/common.py:882\u001b[0m, in \u001b[0;36mget_handle\u001b[0;34m(path_or_buf, mode, encoding, compression, memory_map, is_text, errors, storage_options)\u001b[0m\n\u001b[1;32m    873\u001b[0m         handle \u001b[38;5;241m=\u001b[39m \u001b[38;5;28mopen\u001b[39m(\n\u001b[1;32m    874\u001b[0m             handle,\n\u001b[1;32m    875\u001b[0m             ioargs\u001b[38;5;241m.\u001b[39mmode,\n\u001b[0;32m   (...)\u001b[0m\n\u001b[1;32m    878\u001b[0m             newline\u001b[38;5;241m=\u001b[39m\u001b[38;5;124m\"\u001b[39m\u001b[38;5;124m\"\u001b[39m,\n\u001b[1;32m    879\u001b[0m         )\n\u001b[1;32m    880\u001b[0m     \u001b[38;5;28;01melse\u001b[39;00m:\n\u001b[1;32m    881\u001b[0m         \u001b[38;5;66;03m# Binary mode\u001b[39;00m\n\u001b[0;32m--> 882\u001b[0m         handle \u001b[38;5;241m=\u001b[39m \u001b[38;5;28mopen\u001b[39m(handle, ioargs\u001b[38;5;241m.\u001b[39mmode)\n\u001b[1;32m    883\u001b[0m     handles\u001b[38;5;241m.\u001b[39mappend(handle)\n\u001b[1;32m    885\u001b[0m \u001b[38;5;66;03m# Convert BytesIO or file objects passed with an encoding\u001b[39;00m\n",
      "\u001b[0;31mFileNotFoundError\u001b[0m: [Errno 2] No such file or directory: 'chap2.xlsx'"
     ]
    }
   ],
   "source": [
    "data = pd.read_excel(\"chap2.xlsx\", index_col=0)\n",
    "data"
   ]
  },
  {
   "cell_type": "code",
   "execution_count": null,
   "metadata": {},
   "outputs": [],
   "source": [
    "use_data = data.loc[[\"sec1\",\"sec2\"],\"use\"].reset_index()\n",
    "lab_data = data.loc[\"lab\",[\"sec1\",\"sec2\"]].reset_index()\n",
    "int_data = data.loc[[\"sec1\",\"sec2\"],[\"sec1\",\"sec2\"]].stack().reset_index()\n",
    "Q0_data = data.loc[[\"sec1\",\"sec2\"],\"total\"].reset_index()\n",
    "a_data = data.loc[[\"sec1\",\"sec2\"],[\"sec1\",\"sec2\"]].values / data.loc[[\"sec1\",\"sec2\"],\"total\"].values\n",
    "a_data = pd.DataFrame(a_data, index=[\"sec1\",\"sec2\"], columns=[\"sec1\",\"sec2\"]).stack().reset_index()\n"
   ]
  },
  {
   "cell_type": "markdown",
   "metadata": {},
   "source": [
    "### Parameters"
   ]
  },
  {
   "cell_type": "code",
   "execution_count": null,
   "metadata": {},
   "outputs": [
    {
     "name": "stdout",
     "output_type": "stream",
     "text": [
      "  index  value\n",
      "0  sec1  100.0\n",
      "1  sec2  530.0\n"
     ]
    }
   ],
   "source": [
    "use = Parameter(\n",
    "    container=m,\n",
    "    name=\"use\",\n",
    "    domain=i,\n",
    "    description=\"final use\",\n",
    "    records=use_data\n",
    ")\n",
    "print(use.records)\n"
   ]
  },
  {
   "cell_type": "code",
   "execution_count": null,
   "metadata": {},
   "outputs": [
    {
     "name": "stdout",
     "output_type": "stream",
     "text": [
      "  index  value\n",
      "0  sec1  250.0\n",
      "1  sec2  380.0\n"
     ]
    }
   ],
   "source": [
    "lab = Parameter(\n",
    "    container=m,\n",
    "    name=\"lab\",\n",
    "    domain=j,\n",
    "    description=\"factor labor input\",\n",
    "    records=lab_data\n",
    ")\n",
    "print(lab.records)\n"
   ]
  },
  {
   "cell_type": "code",
   "execution_count": null,
   "metadata": {},
   "outputs": [
    {
     "name": "stdout",
     "output_type": "stream",
     "text": [
      "  level_0 level_1  value\n",
      "0    sec1    sec1  200.0\n",
      "1    sec1    sec2  300.0\n",
      "2    sec2    sec1  150.0\n",
      "3    sec2    sec2  320.0\n"
     ]
    }
   ],
   "source": [
    "int = Parameter(\n",
    "    container=m,\n",
    "    name=\"int\",\n",
    "    domain=[i, j],\n",
    "    description=\"intermidiate input\",\n",
    "    records=int_data\n",
    ")\n",
    "print(int.records)\n"
   ]
  },
  {
   "cell_type": "code",
   "execution_count": null,
   "metadata": {},
   "outputs": [
    {
     "name": "stdout",
     "output_type": "stream",
     "text": [
      "  level_0 level_1     value\n",
      "0    sec1    sec1  0.333333\n",
      "1    sec1    sec2  0.300000\n",
      "2    sec2    sec1  0.250000\n",
      "3    sec2    sec2  0.320000\n"
     ]
    }
   ],
   "source": [
    "a = Parameter(\n",
    "    container=m,\n",
    "    name=\"a\",\n",
    "    domain=[i, j],\n",
    "    description=\"direct input-output coefficients\",\n",
    "    records=a_data\n",
    ")\n",
    "print(a.records)\n"
   ]
  },
  {
   "cell_type": "code",
   "execution_count": null,
   "metadata": {},
   "outputs": [
    {
     "name": "stdout",
     "output_type": "stream",
     "text": [
      "  index   value\n",
      "0  sec1   600.0\n",
      "1  sec2  1000.0\n"
     ]
    }
   ],
   "source": [
    "Q0 = Parameter(\n",
    "    container=m,\n",
    "    name=\"Q0\",\n",
    "    domain=i,\n",
    "    description=\"initial value for total output\",\n",
    "    records=Q0_data\n",
    ")\n",
    "print(Q0.records)"
   ]
  },
  {
   "cell_type": "markdown",
   "metadata": {},
   "source": [
    "### Variables"
   ]
  },
  {
   "cell_type": "code",
   "execution_count": null,
   "metadata": {},
   "outputs": [],
   "source": [
    "Q = Variable(\n",
    "    container=m,\n",
    "    name=\"Q\",\n",
    "    domain=[i],\n",
    "    type=\"Positive\",\n",
    "    description=\"total output\",\n",
    ")\n",
    "\n",
    "obj = Variable(m, name=\"obj\")"
   ]
  },
  {
   "cell_type": "markdown",
   "metadata": {},
   "source": [
    "### Equations"
   ]
  },
  {
   "cell_type": "code",
   "execution_count": null,
   "metadata": {},
   "outputs": [],
   "source": [
    "commodityequi = Equation( \n",
    "    container=m, name=\"commodityequi\", domain=[i], description=\"commodity equality\"  \n",
    ") \n",
    "commodityequi[i] = Q[i] == Sum(j, a[i, j]* Q[j]) + use[i]  \n",
    "\n",
    "dummy = Equation(m, \"dummy\")\n",
    "dummy[...] = obj == 0\n"
   ]
  },
  {
   "cell_type": "markdown",
   "metadata": {},
   "source": [
    "### Model"
   ]
  },
  {
   "cell_type": "code",
   "execution_count": null,
   "metadata": {},
   "outputs": [],
   "source": [
    "Q1 = Parameter(\n",
    "    container=m,\n",
    "    name=\"Q1\",\n",
    "    domain=i,\n",
    "    records=[[\"sec1\",1],[\"sec2\",2]]\n",
    ")\n",
    "\n",
    "IOmodel = Model(\n",
    "    m,\n",
    "    name=\"IOmodel\",\n",
    "    problem=Problem.LP,\n",
    "    equations=m.getEquations(),\n",
    "    sense=\"min\",\n",
    "    objective=obj\n",
    ")\n",
    "Q.l[i] = Q1[i]  "
   ]
  },
  {
   "cell_type": "markdown",
   "metadata": {},
   "source": [
    "### Solve\n"
   ]
  },
  {
   "cell_type": "code",
   "execution_count": null,
   "metadata": {},
   "outputs": [
    {
     "data": {
      "text/html": [
       "<div>\n",
       "<style scoped>\n",
       "    .dataframe tbody tr th:only-of-type {\n",
       "        vertical-align: middle;\n",
       "    }\n",
       "\n",
       "    .dataframe tbody tr th {\n",
       "        vertical-align: top;\n",
       "    }\n",
       "\n",
       "    .dataframe thead th {\n",
       "        text-align: right;\n",
       "    }\n",
       "</style>\n",
       "<table border=\"1\" class=\"dataframe\">\n",
       "  <thead>\n",
       "    <tr style=\"text-align: right;\">\n",
       "      <th></th>\n",
       "      <th>i</th>\n",
       "      <th>level</th>\n",
       "      <th>marginal</th>\n",
       "      <th>lower</th>\n",
       "      <th>upper</th>\n",
       "      <th>scale</th>\n",
       "    </tr>\n",
       "  </thead>\n",
       "  <tbody>\n",
       "    <tr>\n",
       "      <th>0</th>\n",
       "      <td>sec1</td>\n",
       "      <td>600.0</td>\n",
       "      <td>0.0</td>\n",
       "      <td>0.0</td>\n",
       "      <td>inf</td>\n",
       "      <td>1.0</td>\n",
       "    </tr>\n",
       "    <tr>\n",
       "      <th>1</th>\n",
       "      <td>sec2</td>\n",
       "      <td>1000.0</td>\n",
       "      <td>0.0</td>\n",
       "      <td>0.0</td>\n",
       "      <td>inf</td>\n",
       "      <td>1.0</td>\n",
       "    </tr>\n",
       "  </tbody>\n",
       "</table>\n",
       "</div>"
      ],
      "text/plain": [
       "      i   level  marginal  lower  upper  scale\n",
       "0  sec1   600.0       0.0    0.0    inf    1.0\n",
       "1  sec2  1000.0       0.0    0.0    inf    1.0"
      ]
     },
     "execution_count": 35,
     "metadata": {},
     "output_type": "execute_result"
    }
   ],
   "source": [
    "IOmodel.solve()\n",
    "Q.records"
   ]
  },
  {
   "cell_type": "code",
   "execution_count": null,
   "metadata": {},
   "outputs": [
    {
     "data": {
      "text/html": [
       "<div>\n",
       "<style scoped>\n",
       "    .dataframe tbody tr th:only-of-type {\n",
       "        vertical-align: middle;\n",
       "    }\n",
       "\n",
       "    .dataframe tbody tr th {\n",
       "        vertical-align: top;\n",
       "    }\n",
       "\n",
       "    .dataframe thead th {\n",
       "        text-align: right;\n",
       "    }\n",
       "</style>\n",
       "<table border=\"1\" class=\"dataframe\">\n",
       "  <thead>\n",
       "    <tr style=\"text-align: right;\">\n",
       "      <th></th>\n",
       "      <th>i</th>\n",
       "      <th>level</th>\n",
       "      <th>marginal</th>\n",
       "      <th>lower</th>\n",
       "      <th>upper</th>\n",
       "      <th>scale</th>\n",
       "    </tr>\n",
       "  </thead>\n",
       "  <tbody>\n",
       "    <tr>\n",
       "      <th>0</th>\n",
       "      <td>sec1</td>\n",
       "      <td>600.0</td>\n",
       "      <td>7.105427e-14</td>\n",
       "      <td>0.0</td>\n",
       "      <td>inf</td>\n",
       "      <td>1.0</td>\n",
       "    </tr>\n",
       "    <tr>\n",
       "      <th>1</th>\n",
       "      <td>sec2</td>\n",
       "      <td>1000.0</td>\n",
       "      <td>-1.136868e-13</td>\n",
       "      <td>0.0</td>\n",
       "      <td>inf</td>\n",
       "      <td>1.0</td>\n",
       "    </tr>\n",
       "  </tbody>\n",
       "</table>\n",
       "</div>"
      ],
      "text/plain": [
       "      i   level      marginal  lower  upper  scale\n",
       "0  sec1   600.0  7.105427e-14    0.0    inf    1.0\n",
       "1  sec2  1000.0 -1.136868e-13    0.0    inf    1.0"
      ]
     },
     "execution_count": 36,
     "metadata": {},
     "output_type": "execute_result"
    }
   ],
   "source": [
    "model1 = Model(\n",
    "    m,\n",
    "    name=\"model1\",\n",
    "    problem=\"mcp\",\n",
    "    matches={commodityequi:Q}\n",
    ")\n",
    "Q.l[i] = Q1[i]  \n",
    "model1.solve()\n",
    "Q.records"
   ]
  },
  {
   "cell_type": "code",
   "execution_count": null,
   "metadata": {},
   "outputs": [
    {
     "name": "stdout",
     "output_type": "stream",
     "text": [
      "--- Job _aad8ece7-a351-46f7-8e6f-e7f37f745a22.gms Start 03/20/25 13:52:58 49.2.0 9b2b0844 DAX-DAC arm 64bit/macOS\n",
      "--- Applying:\n",
      "    /opt/anaconda3/lib/python3.12/site-packages/gamspy_base/gmsprmun.txt\n",
      "--- GAMS Parameters defined\n",
      "    LP CPLEX\n",
      "    Input /var/folders/_3/k3k66fl17155q0_plbg58kn00000gn/T/tmpcq0x9y8m/_aad8ece7-a351-46f7-8e6f-e7f37f745a22.gms\n",
      "    Output /var/folders/_3/k3k66fl17155q0_plbg58kn00000gn/T/tmpcq0x9y8m/_aad8ece7-a351-46f7-8e6f-e7f37f745a22.lst\n",
      "    ScrDir /var/folders/_3/k3k66fl17155q0_plbg58kn00000gn/T/tmpcq0x9y8m/tmpmm_78xke/\n",
      "    SysDir /opt/anaconda3/lib/python3.12/site-packages/gamspy_base/\n",
      "    LogOption 3\n",
      "    Trace /var/folders/_3/k3k66fl17155q0_plbg58kn00000gn/T/tmpcq0x9y8m/_aad8ece7-a351-46f7-8e6f-e7f37f745a22.txt\n",
      "    License /opt/anaconda3/lib/python3.12/site-packages/gamspy_base/gamslice.txt\n",
      "    OptDir /var/folders/_3/k3k66fl17155q0_plbg58kn00000gn/T/tmpcq0x9y8m/\n",
      "    LimRow 10\n",
      "    LimCol 10\n",
      "    TraceOpt 3\n",
      "    GDX /var/folders/_3/k3k66fl17155q0_plbg58kn00000gn/T/tmpcq0x9y8m/_aad8ece7-a351-46f7-8e6f-e7f37f745a22out.gdx\n",
      "    SolPrint 0\n",
      "    PreviousWork 1\n",
      "    gdxSymbols newOrChanged\n",
      "Licensee: GAMS Demo, for EULA and demo limitations see   G250131/0001CB-GEN\n",
      "          https://www.gams.com/latest/docs/UG%5FLicense.html         DC0000\n",
      "          /opt/anaconda3/lib/python3.12/site-packages/gamspy_base/gamslice.txt\n",
      "          Demo license for demonstration and instructional purposes only\n",
      "System information: 8 physical cores and 8 Gb memory detected\n",
      "--- Starting compilation\n",
      "--- _aad8ece7-a351-46f7-8e6f-e7f37f745a22.gms(68) 4 Mb\n",
      "--- Starting execution: elapsed 0:00:00.001\n",
      "--- Generating LP model IOmodel\n",
      "--- _aad8ece7-a351-46f7-8e6f-e7f37f745a22.gms(248) 4 Mb\n",
      "---   3 rows  3 columns  5 non-zeroes\n",
      "--- Range statistics (absolute non-zero finite values)\n",
      "--- RHS       [min, max] : [ 1.000E+02, 5.300E+02] - Zero values observed as well\n",
      "--- Bound     [min, max] : [        NA,        NA] - Zero values observed as well\n",
      "--- Matrix    [min, max] : [ 2.500E-01, 1.000E+00]\n",
      "--- Executing CPLEX (Solvelink=2): elapsed 0:00:00.002\n",
      "\n",
      "IBM ILOG CPLEX   49.2.0 9b2b0844 Mar 5, 2025           DAC arm 64bit/macOS    \n",
      "\n",
      "*** This solver runs with a demo license. No commercial use.\n",
      "--- GMO setup time: 0.00s\n",
      "--- GMO memory 0.50 Mb (peak 0.50 Mb)\n",
      "--- Dictionary memory 0.00 Mb\n",
      "--- Cplex 22.1.2.0 link memory 0.00 Mb (peak 0.00 Mb)\n",
      "--- Starting Cplex\n",
      "\n",
      "Version identifier: 22.1.2.0 | 2024-12-02 | 8bd2200c8\n",
      "CPXPARAM_Advance                                 2\n",
      "CPXPARAM_Simplex_Display                         2\n",
      "CPXPARAM_MIP_Display                             4\n",
      "CPXPARAM_MIP_Pool_Capacity                       0\n",
      "3036                                             1\n",
      "CPXPARAM_MIP_Tolerances_AbsMIPGap                0\n",
      "Tried aggregator 1 time.\n",
      "LP Presolve eliminated 0 rows and 1 columns.\n",
      "Aggregator did 2 substitutions.\n",
      "All rows and columns eliminated.\n",
      "Presolve time = 0.00 sec. (0.00 ticks)\n",
      "\n",
      "--- LP status (1): optimal.\n",
      "--- Cplex Time: 0.00sec (det. 0.00 ticks)\n",
      "\n",
      "\n",
      "Optimal solution found\n",
      "Objective:            0.000000\n",
      "\n",
      "--- Reading solution for model IOmodel\n",
      "--- Executing after solve: elapsed 0:00:00.036\n",
      "--- _aad8ece7-a351-46f7-8e6f-e7f37f745a22.gms(310) 4 Mb\n",
      "--- GDX File /var/folders/_3/k3k66fl17155q0_plbg58kn00000gn/T/tmpcq0x9y8m/_aad8ece7-a351-46f7-8e6f-e7f37f745a22out.gdx\n",
      "*** Status: Normal completion\n",
      "--- Job _aad8ece7-a351-46f7-8e6f-e7f37f745a22.gms Stop 03/20/25 13:52:58 elapsed 0:00:00.036\n"
     ]
    },
    {
     "data": {
      "text/html": [
       "<div>\n",
       "<style scoped>\n",
       "    .dataframe tbody tr th:only-of-type {\n",
       "        vertical-align: middle;\n",
       "    }\n",
       "\n",
       "    .dataframe tbody tr th {\n",
       "        vertical-align: top;\n",
       "    }\n",
       "\n",
       "    .dataframe thead th {\n",
       "        text-align: right;\n",
       "    }\n",
       "</style>\n",
       "<table border=\"1\" class=\"dataframe\">\n",
       "  <thead>\n",
       "    <tr style=\"text-align: right;\">\n",
       "      <th></th>\n",
       "      <th>Solver Status</th>\n",
       "      <th>Model Status</th>\n",
       "      <th>Objective</th>\n",
       "      <th>Num of Equations</th>\n",
       "      <th>Num of Variables</th>\n",
       "      <th>Model Type</th>\n",
       "      <th>Solver</th>\n",
       "      <th>Solver Time</th>\n",
       "    </tr>\n",
       "  </thead>\n",
       "  <tbody>\n",
       "    <tr>\n",
       "      <th>0</th>\n",
       "      <td>Normal</td>\n",
       "      <td>OptimalGlobal</td>\n",
       "      <td>0</td>\n",
       "      <td>3</td>\n",
       "      <td>3</td>\n",
       "      <td>LP</td>\n",
       "      <td>CPLEX</td>\n",
       "      <td>0.001</td>\n",
       "    </tr>\n",
       "  </tbody>\n",
       "</table>\n",
       "</div>"
      ],
      "text/plain": [
       "  Solver Status   Model Status Objective Num of Equations Num of Variables  \\\n",
       "0        Normal  OptimalGlobal         0                3                3   \n",
       "\n",
       "  Model Type Solver Solver Time  \n",
       "0         LP  CPLEX       0.001  "
      ]
     },
     "execution_count": 37,
     "metadata": {},
     "output_type": "execute_result"
    }
   ],
   "source": [
    "import sys\n",
    "IOmodel.solve(output=sys.stdout, options=Options(equation_listing_limit=10, variable_listing_limit=10))"
   ]
  },
  {
   "cell_type": "code",
   "execution_count": null,
   "metadata": {},
   "outputs": [
    {
     "name": "stdout",
     "output_type": "stream",
     "text": [
      "commodityequi(sec1)..  0.666666666666667*Q(sec1) - 0.3*Q(sec2) =E= 100 ; (LHS = 100)\n",
      "commodityequi(sec2)..  - 0.25*Q(sec1) + 0.68*Q(sec2) =E= 530 ; (LHS = 530)\n",
      "dummy..  obj =E= 0 ; (LHS = 0)\n"
     ]
    }
   ],
   "source": [
    "print(IOmodel.getEquationListing())"
   ]
  },
  {
   "cell_type": "code",
   "execution_count": null,
   "metadata": {},
   "outputs": [
    {
     "name": "stdout",
     "output_type": "stream",
     "text": [
      "--- _aad8ece7-a351-46f7-8e6f-e7f37f745a22.gms(310) 4 Mb\n",
      "--- Job _aad8ece7-a351-46f7-8e6f-e7f37f745a22.gms Start 03/20/25 13:52:58 49.2.0 9b2b0844 DAX-DAC arm 64bit/macOS\n",
      "--- Applying:\n",
      "    /opt/anaconda3/lib/python3.12/site-packages/gamspy_base/gmsprmun.txt\n",
      "--- GAMS Parameters defined\n",
      "    MCP PATH\n",
      "    Input /var/folders/_3/k3k66fl17155q0_plbg58kn00000gn/T/tmpcq0x9y8m/_aad8ece7-a351-46f7-8e6f-e7f37f745a22.gms\n",
      "    Output /var/folders/_3/k3k66fl17155q0_plbg58kn00000gn/T/tmpcq0x9y8m/_aad8ece7-a351-46f7-8e6f-e7f37f745a22.lst\n",
      "    ScrDir /var/folders/_3/k3k66fl17155q0_plbg58kn00000gn/T/tmpcq0x9y8m/tmpmm_78xke/\n",
      "    SysDir /opt/anaconda3/lib/python3.12/site-packages/gamspy_base/\n",
      "    LogOption 3\n",
      "    Trace /var/folders/_3/k3k66fl17155q0_plbg58kn00000gn/T/tmpcq0x9y8m/_aad8ece7-a351-46f7-8e6f-e7f37f745a22.txt\n",
      "    License /opt/anaconda3/lib/python3.12/site-packages/gamspy_base/gamslice.txt\n",
      "    OptDir /var/folders/_3/k3k66fl17155q0_plbg58kn00000gn/T/tmpcq0x9y8m/\n",
      "    LimRow 10\n",
      "    LimCol 10\n",
      "    TraceOpt 3\n",
      "    GDX /var/folders/_3/k3k66fl17155q0_plbg58kn00000gn/T/tmpcq0x9y8m/_aad8ece7-a351-46f7-8e6f-e7f37f745a22out.gdx\n",
      "    SolPrint 0\n",
      "    PreviousWork 1\n",
      "    gdxSymbols newOrChanged\n",
      "Licensee: GAMS Demo, for EULA and demo limitations see   G250131/0001CB-GEN\n",
      "          https://www.gams.com/latest/docs/UG%5FLicense.html         DC0000\n",
      "          /opt/anaconda3/lib/python3.12/site-packages/gamspy_base/gamslice.txt\n",
      "          Demo license for demonstration and instructional purposes only\n",
      "System information: 8 physical cores and 8 Gb memory detected\n",
      "--- Starting compilation\n",
      "--- _aad8ece7-a351-46f7-8e6f-e7f37f745a22.gms(68) 4 Mb\n",
      "--- Starting execution: elapsed 0:00:00.001\n",
      "--- Generating MCP model model1\n",
      "--- _aad8ece7-a351-46f7-8e6f-e7f37f745a22.gms(316) 6 Mb\n",
      "---   2 rows  2 columns  4 non-zeroes\n",
      "---   0 nl-code  0 nl-non-zeroes\n",
      "--- Range statistics (absolute non-zero finite values)\n",
      "--- RHS       [min, max] : [ 1.000E+02, 5.300E+02]\n",
      "--- Bound     [min, max] : [        NA,        NA] - Zero values observed as well\n",
      "--- Matrix    [min, max] : [ 2.500E-01, 6.800E-01]\n",
      "--- _aad8ece7-a351-46f7-8e6f-e7f37f745a22.gms(316) 4 Mb\n",
      "--- Executing PATH (Solvelink=2): elapsed 0:00:00.002\n",
      "Reading dictionary...\n",
      "Reading row data...\n",
      "Evaluating functions...\n",
      "Checking model...\n",
      "Calculating Jacobian...\n",
      "\n",
      "*** This solver runs with a demo license. No commercial use.\n",
      "2 row/cols, 4 non-zeros, 100.00% dense.\n",
      "\n",
      "Path 5.2.01 (Wed Mar  5 17:53:09 2025)\n",
      "Written by Todd Munson, Steven Dirkse, Youngdae Kim, and Michael Ferris\n",
      "\n",
      "MCPR: One:    0 Two:    2 Thr:    0 Qua:    0 WBd:    0 Fix:    0 IFx:    0\n",
      "Preprocessed size: 0 rows/cols - solved in presolve\n",
      "\n",
      " ** EXIT - solution found.\n",
      "\n",
      "Major Iterations. . . . 0\n",
      "Minor Iterations. . . . 0\n",
      "Restarts. . . . . . . . 0\n",
      "Crash Iterations. . . . 0\n",
      "Gradient Steps. . . . . 0\n",
      "Function Evaluations. . 0\n",
      "Gradient Evaluations. . 0\n",
      "Basis Time. . . . . . . 0.000000\n",
      "Total Time. . . . . . . 0.000090\n",
      "Residual. . . . . . . . 0.000000e+00\n",
      "Postsolved residual: 1.3406e-13\n",
      "\n",
      "--- Reading solution for model model1\n",
      "--- Executing after solve: elapsed 0:00:00.041\n",
      "--- _aad8ece7-a351-46f7-8e6f-e7f37f745a22.gms(378) 4 Mb\n",
      "--- GDX File /var/folders/_3/k3k66fl17155q0_plbg58kn00000gn/T/tmpcq0x9y8m/_aad8ece7-a351-46f7-8e6f-e7f37f745a22out.gdx\n",
      "*** Status: Normal completion\n",
      "--- Job _aad8ece7-a351-46f7-8e6f-e7f37f745a22.gms Stop 03/20/25 13:52:58 elapsed 0:00:00.042\n"
     ]
    },
    {
     "data": {
      "text/html": [
       "<div>\n",
       "<style scoped>\n",
       "    .dataframe tbody tr th:only-of-type {\n",
       "        vertical-align: middle;\n",
       "    }\n",
       "\n",
       "    .dataframe tbody tr th {\n",
       "        vertical-align: top;\n",
       "    }\n",
       "\n",
       "    .dataframe thead th {\n",
       "        text-align: right;\n",
       "    }\n",
       "</style>\n",
       "<table border=\"1\" class=\"dataframe\">\n",
       "  <thead>\n",
       "    <tr style=\"text-align: right;\">\n",
       "      <th></th>\n",
       "      <th>Solver Status</th>\n",
       "      <th>Model Status</th>\n",
       "      <th>Objective</th>\n",
       "      <th>Num of Equations</th>\n",
       "      <th>Num of Variables</th>\n",
       "      <th>Model Type</th>\n",
       "      <th>Solver</th>\n",
       "      <th>Solver Time</th>\n",
       "    </tr>\n",
       "  </thead>\n",
       "  <tbody>\n",
       "    <tr>\n",
       "      <th>0</th>\n",
       "      <td>Normal</td>\n",
       "      <td>OptimalGlobal</td>\n",
       "      <td>1.13686837721616E-13</td>\n",
       "      <td>2</td>\n",
       "      <td>2</td>\n",
       "      <td>MCP</td>\n",
       "      <td>PATH</td>\n",
       "      <td>0.004</td>\n",
       "    </tr>\n",
       "  </tbody>\n",
       "</table>\n",
       "</div>"
      ],
      "text/plain": [
       "  Solver Status   Model Status             Objective Num of Equations  \\\n",
       "0        Normal  OptimalGlobal  1.13686837721616E-13                2   \n",
       "\n",
       "  Num of Variables Model Type Solver Solver Time  \n",
       "0                2        MCP   PATH       0.004  "
      ]
     },
     "execution_count": 39,
     "metadata": {},
     "output_type": "execute_result"
    }
   ],
   "source": [
    "model1.solve(output=sys.stdout, options=Options(equation_listing_limit=10, variable_listing_limit=10))\n"
   ]
  },
  {
   "cell_type": "code",
   "execution_count": null,
   "metadata": {},
   "outputs": [
    {
     "name": "stdout",
     "output_type": "stream",
     "text": [
      "\n"
     ]
    }
   ],
   "source": [
    "print(model1.getEquationListing())"
   ]
  }
 ],
 "metadata": {
  "kernelspec": {
   "display_name": "base",
   "language": "python",
   "name": "python3"
  },
  "language_info": {
   "codemirror_mode": {
    "name": "ipython",
    "version": 3
   },
   "file_extension": ".py",
   "mimetype": "text/x-python",
   "name": "python",
   "nbconvert_exporter": "python",
   "pygments_lexer": "ipython3",
   "version": "3.12.7"
  }
 },
 "nbformat": 4,
 "nbformat_minor": 2
}
